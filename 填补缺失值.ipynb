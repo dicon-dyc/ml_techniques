{
 "cells": [
  {
   "cell_type": "markdown",
   "metadata": {},
   "source": [
    "**<font size = 4 color = \"#414141\">众数填补</font>**"
   ]
  },
  {
   "cell_type": "code",
   "execution_count": null,
   "metadata": {},
   "outputs": [],
   "source": [
    "import collections\n",
    "for col in train_data1.columns:\n",
    "    if train_data1[col].isnull().sum() != 0:\n",
    "        meb_counts = collections.Counter(train_data1[col].values)\n",
    "        most_meb = meb_counts.most_common(1)[0][0]\n",
    "        train_data1[col].fillna(most_meb)\n",
    "train_data1.isnull().sum()"
   ]
  },
  {
   "cell_type": "code",
   "execution_count": null,
   "metadata": {},
   "outputs": [],
   "source": [
    "#替换指定的index或者columns\n",
    "df2=df1.rename(index={'bj':'beijing'},columns={'a':'aa'})\n",
    "print(df2)"
   ]
  }
 ],
 "metadata": {
  "kernelspec": {
   "display_name": "Python 3",
   "language": "python",
   "name": "python3"
  },
  "language_info": {
   "codemirror_mode": {
    "name": "ipython",
    "version": 3
   },
   "file_extension": ".py",
   "mimetype": "text/x-python",
   "name": "python",
   "nbconvert_exporter": "python",
   "pygments_lexer": "ipython3",
   "version": "3.7.2"
  }
 },
 "nbformat": 4,
 "nbformat_minor": 4
}
