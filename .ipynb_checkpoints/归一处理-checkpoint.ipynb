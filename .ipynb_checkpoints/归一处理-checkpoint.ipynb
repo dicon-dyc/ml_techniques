{
 "cells": [
  {
   "cell_type": "code",
   "execution_count": 1,
   "metadata": {},
   "outputs": [],
   "source": [
    "from sklearn import preprocessing\n",
    "import numpy as np"
   ]
  },
  {
   "cell_type": "code",
   "execution_count": 1,
   "metadata": {},
   "outputs": [],
   "source": [
    "#minmax_scaler = preprocessing.MinMaxScaler()\n",
    "#x_minmax_data = minmax_scaler.fit_transform(train_data)\n",
    "#x_minmax_data = pd.DataFrame(x_minmax_data,index = train_data.index, columns = train_data.columns)\n",
    "#x_minmax_data"
   ]
  },
  {
   "cell_type": "code",
   "execution_count": null,
   "metadata": {},
   "outputs": [],
   "source": [
    "#standard_scaler = preprocessing.StandardScaler()\n",
    "#x_standard_data = standard_scaler.fit_transform(train_data)\n",
    "#x_standard_data = pd.DataFrame(x_standard_data,index = train_data.index,columns = train_data.columns)"
   ]
  }
 ],
 "metadata": {
  "kernelspec": {
   "display_name": "Python 3",
   "language": "python",
   "name": "python3"
  },
  "language_info": {
   "codemirror_mode": {
    "name": "ipython",
    "version": 3
   },
   "file_extension": ".py",
   "mimetype": "text/x-python",
   "name": "python",
   "nbconvert_exporter": "python",
   "pygments_lexer": "ipython3",
   "version": "3.7.2"
  }
 },
 "nbformat": 4,
 "nbformat_minor": 4
}
